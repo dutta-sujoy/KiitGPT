{
  "nbformat": 4,
  "nbformat_minor": 0,
  "metadata": {
    "colab": {
      "provenance": [],
      "gpuType": "T4"
    },
    "kernelspec": {
      "name": "python3",
      "display_name": "Python 3"
    },
    "language_info": {
      "name": "python"
    },
    "accelerator": "GPU"
  },
  "cells": [
    {
      "cell_type": "code",
      "execution_count": null,
      "metadata": {
        "colab": {
          "base_uri": "https://localhost:8080/"
        },
        "id": "pIvDT0T7E_A6",
        "outputId": "07c690e8-d021-415b-85ea-bf0d3d177117"
      },
      "outputs": [
        {
          "output_type": "stream",
          "name": "stdout",
          "text": [
            "Successfully converted 'kiit_qna.csv' to 'kiit_data.jsonl'\n"
          ]
        }
      ],
      "source": [
        "import csv\n",
        "import json\n",
        "\n",
        "def convert_csv_to_jsonl(csv_file_path, jsonl_file_path):\n",
        "    \"\"\"\n",
        "    Converts a CSV file to a JSON Lines file with Llama 2 formatting.\n",
        "\n",
        "    Args:\n",
        "        csv_file_path (str): Path to the input CSV file.  CSV should have 'question' and 'answer' columns.\n",
        "        jsonl_file_path (str): Path to the output JSON Lines file.\n",
        "    \"\"\"\n",
        "\n",
        "    kiit_finetuning_data = []\n",
        "\n",
        "    with open(csv_file_path, 'r', encoding='utf-8') as csvfile:\n",
        "        reader = csv.DictReader(csvfile)\n",
        "        for row in reader:\n",
        "            question = row['question']\n",
        "            answer = row['answer']\n",
        "\n",
        "            # Format the QnA pair using the Llama 2 template\n",
        "            text = f\"<s>[INST] <<SYS>>\\nYou are a helpful assistant knowledgeable about Kalinga Institute of Industrial Technology (KIIT). Provide concise and accurate information based on the user's question about KIIT.\\n<</SYS>>\\n\\n{question} [/INST] {answer} </s>\"\n",
        "\n",
        "            kiit_finetuning_data.append({\"text\": text})\n",
        "\n",
        "    # Save to JSON Lines format\n",
        "    with open(jsonl_file_path, 'w', encoding='utf-8') as jsonlfile:\n",
        "        for entry in kiit_finetuning_data:\n",
        "            json.dump(entry, jsonlfile, ensure_ascii=False)  # Prevent ASCII encoding issues\n",
        "            jsonlfile.write('\\n')\n",
        "\n",
        "    print(f\"Successfully converted '{csv_file_path}' to '{jsonl_file_path}'\")\n",
        "\n",
        "# Example usage (replace with your actual file paths)\n",
        "csv_file_path = 'kiit_qna.csv'  # Path to your CSV file\n",
        "jsonl_file_path = 'kiit_data.jsonl'  # Path for the output JSON Lines file\n",
        "\n",
        "convert_csv_to_jsonl(csv_file_path, jsonl_file_path)\n"
      ]
    }
  ]
}